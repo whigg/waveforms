{
 "cells": [
  {
   "cell_type": "code",
   "execution_count": 1,
   "metadata": {
    "collapsed": true
   },
   "outputs": [],
   "source": [
    "#!/usr/bin/env python\n",
    "\n",
    "'''\n",
    "Demonstration script to read, analyze, and plot waveforms from ATM HDF5 files\n",
    "\n",
    "'''\n",
    "import sys, os, glob, h5py, time\n",
    "import numpy as np\n",
    "from pylab import *\n",
    "import atmFuncs as aF\n",
    "%matplotlib inline "
   ]
  },
  {
   "cell_type": "code",
   "execution_count": 2,
   "metadata": {
    "collapsed": false
   },
   "outputs": [],
   "source": [
    "# Account for the fact that python begins indexing at 0, but HDF5 file starts indexing at 1\n",
    "index_base = 1\n",
    "\n",
    "\n",
    "# Get filename from arguments\n",
    "#for arg in sys.argv:\n",
    "#\tif arg.endswith('.h5'):\n",
    "#\t\tfilename = arg\n",
    "\n",
    "filename='../Data/ILATM1B_20170309_133117.atm6AT6.snippet.h5'\n",
    "# Open HDF5 file for reading\n",
    "f = h5py.File(filename, 'r')\n",
    "\n",
    "# Print contents of HDF5 file\n",
    "printContents=0\n",
    "if (printContents==1):\n",
    "    print '\\n{0}\\nContents of {1}:\\n{0}'.format('='*50, filename)\n",
    "    f.visititems(printContents) # method to iterate through each item in the HDF5 file and calls \"printContents\" func on each\n",
    "    print\n",
    "\n",
    "waveforms_x, waveforms_y, num_gates = aF.getWaveform(f)\n",
    "#waveforms_x.shape\n",
    "# To access the waveform from the first laser shot:\n",
    "#waveforms_y[0] # list containing a list of amplitude values (one sublist for each gate in the waveform)\n",
    "#waveforms_x[0] # list containing a list of digitizer sample positions (one sublist for each gate in the waveform)"
   ]
  },
  {
   "cell_type": "code",
   "execution_count": 3,
   "metadata": {
    "collapsed": true
   },
   "outputs": [],
   "source": [
    "outputGates=0\n",
    "if (outputGates>0):\n",
    "    # This snippet will output the waveform gates from the first 20 laser shots to the screen\n",
    "    for w,wfy in enumerate(waveforms_y): # loop through waveforms\n",
    "        print\n",
    "        for g,wf in enumerate(wfy): # loop through gates in waveform\n",
    "            print 'Waveform {}, Gate {} ({} samples)'.format(w+index_base, g+index_base, len(wf))\n",
    "            print wf\n",
    "        if w > outputGates:\n",
    "            break\n",
    "        "
   ]
  },
  {
   "cell_type": "code",
   "execution_count": 7,
   "metadata": {
    "collapsed": false
   },
   "outputs": [
    {
     "name": "stdout",
     "output_type": "stream",
     "text": [
      "3\n"
     ]
    }
   ],
   "source": [
    "print num_gates"
   ]
  },
  {
   "cell_type": "code",
   "execution_count": 6,
   "metadata": {
    "collapsed": false
   },
   "outputs": [
    {
     "ename": "IndexError",
     "evalue": "invalid index to scalar variable.",
     "output_type": "error",
     "traceback": [
      "\u001b[0;31m---------------------------------------------------------------------------\u001b[0m",
      "\u001b[0;31mIndexError\u001b[0m                                Traceback (most recent call last)",
      "\u001b[0;32m<ipython-input-6-8f8351df72eb>\u001b[0m in \u001b[0;36m<module>\u001b[0;34m()\u001b[0m\n\u001b[1;32m      5\u001b[0m         \u001b[0;31m#print ax\u001b[0m\u001b[0;34m\u001b[0m\u001b[0;34m\u001b[0m\u001b[0m\n\u001b[1;32m      6\u001b[0m         \u001b[0msca\u001b[0m\u001b[0;34m(\u001b[0m\u001b[0max\u001b[0m\u001b[0;34m)\u001b[0m\u001b[0;34m\u001b[0m\u001b[0m\n\u001b[0;32m----> 7\u001b[0;31m         \u001b[0mc_colors\u001b[0m \u001b[0;34m=\u001b[0m \u001b[0mcmap\u001b[0m\u001b[0;34m(\u001b[0m\u001b[0mnp\u001b[0m\u001b[0;34m.\u001b[0m\u001b[0mlinspace\u001b[0m\u001b[0;34m(\u001b[0m\u001b[0;36m0\u001b[0m\u001b[0;34m,\u001b[0m \u001b[0;36m1\u001b[0m\u001b[0;34m,\u001b[0m \u001b[0mnum_gates\u001b[0m\u001b[0;34m[\u001b[0m\u001b[0mi\u001b[0m\u001b[0;34m]\u001b[0m\u001b[0;34m)\u001b[0m\u001b[0;34m)\u001b[0m\u001b[0;34m\u001b[0m\u001b[0m\n\u001b[0m\u001b[1;32m      8\u001b[0m         \u001b[0;32mfor\u001b[0m \u001b[0mx\u001b[0m \u001b[0;32min\u001b[0m \u001b[0mxrange\u001b[0m\u001b[0;34m(\u001b[0m\u001b[0mnum_gates\u001b[0m\u001b[0;34m[\u001b[0m\u001b[0mi\u001b[0m\u001b[0;34m]\u001b[0m\u001b[0;34m)\u001b[0m\u001b[0;34m:\u001b[0m\u001b[0;34m\u001b[0m\u001b[0m\n\u001b[1;32m      9\u001b[0m                 \u001b[0mplot\u001b[0m\u001b[0;34m(\u001b[0m\u001b[0mwaveforms_x\u001b[0m\u001b[0;34m[\u001b[0m\u001b[0mi\u001b[0m\u001b[0;34m]\u001b[0m\u001b[0;34m[\u001b[0m\u001b[0mx\u001b[0m\u001b[0;34m]\u001b[0m\u001b[0;34m,\u001b[0m \u001b[0mwaveforms_y\u001b[0m\u001b[0;34m[\u001b[0m\u001b[0mi\u001b[0m\u001b[0;34m]\u001b[0m\u001b[0;34m[\u001b[0m\u001b[0mx\u001b[0m\u001b[0;34m]\u001b[0m\u001b[0;34m,\u001b[0m \u001b[0mcolor\u001b[0m\u001b[0;34m=\u001b[0m\u001b[0mc_colors\u001b[0m\u001b[0;34m[\u001b[0m\u001b[0mx\u001b[0m\u001b[0;34m]\u001b[0m\u001b[0;34m)\u001b[0m\u001b[0;34m\u001b[0m\u001b[0m\n",
      "\u001b[0;31mIndexError\u001b[0m: invalid index to scalar variable."
     ]
    },
    {
     "data": {
      "image/png": "[encoded data removed]",
      "text/plain": [
       "<matplotlib.figure.Figure at 0x1191b2890>"
      ]
     },
     "metadata": {},
     "output_type": "display_data"
    }
   ],
   "source": [
    "fig, axs = plt.subplots(nrows=3, ncols=4, figsize=(8, 8))\n",
    "cmap = cm.viridis  \n",
    "i=0\n",
    "for ax in axs.flatten():\n",
    "\t#print ax\n",
    "\tsca(ax)\n",
    "\tc_colors = cmap(np.linspace(0, 1, num_gates[i]))\n",
    "\tfor x in xrange(num_gates[i]):\n",
    "\t\tplot(waveforms_x[i][x], waveforms_y[i][x], color=c_colors[x])\n",
    "\t\t#plot(waveforms_y[i][1], color='r')\n",
    "\ti+=1\n",
    "plt.tight_layout()\n",
    "\n",
    "\n",
    "plt.show()\n",
    "#savefig('../Figures/testWaveform.jpg')"
   ]
  },
  {
   "cell_type": "code",
   "execution_count": null,
   "metadata": {
    "collapsed": false
   },
   "outputs": [],
   "source": [
    "waveForm = waveforms_y[i][x]"
   ]
  },
  {
   "cell_type": "code",
   "execution_count": null,
   "metadata": {
    "collapsed": false
   },
   "outputs": [],
   "source": [
    "# Define model function to be used to fit to the data above:\n",
    "def gauss(x, *p):\n",
    "    A, mu, sigma = p\n",
    "    return A*np.exp(-(x-mu)**2/(2.*sigma**2))\n",
    "\n",
    "# p0 is the initial guess for the fitting coefficients (A, mu and sigma above)\n",
    "p0 = [1., 0., 1.]\n",
    "\n",
    "xpts=np.arange(size(waveForm))-size(waveForm)/2\n",
    "coeffW, var_matrixW = curve_fit(gauss, xpts, array(waveForm), p0=p0)\n",
    "\n",
    "# Get the fitted curve\n",
    "curveFit = gauss(xpts, *coeffW)\n",
    "\n",
    "plot(xpts, array(waveForm), label='Test data', color='b')\n",
    "plot(xpts, curveFit, label='Fitted data', color='r')\n",
    "\n",
    "# Finally, lets get the fitting parameters, i.e. the mean and standard deviation:\n",
    "print 'Fitted mean = ', coeffW[1]\n",
    "print 'Fitted standard deviation = ', coeffW[2]\n",
    "\n",
    "plt.show()\n"
   ]
  },
  {
   "cell_type": "code",
   "execution_count": null,
   "metadata": {
    "collapsed": true
   },
   "outputs": [],
   "source": []
  }
 ],
 "metadata": {
  "kernelspec": {
   "display_name": "Python 2",
   "language": "python",
   "name": "python2"
  },
  "language_info": {
   "codemirror_mode": {
    "name": "ipython",
    "version": 2
   },
   "file_extension": ".py",
   "mimetype": "text/x-python",
   "name": "python",
   "nbconvert_exporter": "python",
   "pygments_lexer": "ipython2",
   "version": "2.7.11"
  }
 },
 "nbformat": 4,
 "nbformat_minor": 0
}
